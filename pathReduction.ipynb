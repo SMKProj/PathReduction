{
  "nbformat": 4,
  "nbformat_minor": 0,
  "metadata": {
    "colab": {
      "provenance": [],
      "authorship_tag": "ABX9TyND4H/w7DFW/MbX0BydI/zF",
      "include_colab_link": true
    },
    "kernelspec": {
      "name": "python3",
      "display_name": "Python 3"
    },
    "language_info": {
      "name": "python"
    }
  },
  "cells": [
    {
      "cell_type": "markdown",
      "metadata": {
        "id": "view-in-github",
        "colab_type": "text"
      },
      "source": [
        "<a href=\"https://colab.research.google.com/github/SMKProj/PathReduction/blob/main/pathReduction.ipynb\" target=\"_parent\"><img src=\"https://colab.research.google.com/assets/colab-badge.svg\" alt=\"Open In Colab\"/></a>"
      ]
    },
    {
      "cell_type": "markdown",
      "source": [
        "**Path Reduction**\n",
        "\n",
        "**1 Background**\n",
        "\n",
        "We are given paths to go from one point to another. The paths are \"NORTH\", \"SOUTH\", \"WEST\", \"EAST\". Clearly \"NORTH\" and \"SOUTH\" are opposite, \"WEST\" and \"EAST\" too. Going one path and coming back the opposite path is a wasted effort, so let's concise these paths to go the shortest route.\n",
        "For example, given the following paths:\n",
        "You can immediately see that going \"NORTH\" and then \"SOUTH\" is not reasonable, better stay to the same place!\n",
        "So the task is to reduce a simplified version of the plan. A better plan in this case is simply:\n",
        "\n",
        "**Other examples:**\n",
        "\n",
        "In [\"NORTH\", \"SOUTH\", \"EAST\", \"WEST\"], the path \"NORTH\" + \"SOUTH\" is going north and coming back right away. What a waste of time! Better to do nothing. The path becomes [\"EAST\", \"WEST\"], now \"EAST\" and \"WEST\" annihilate each other, therefore, the final result is [] .\n",
        "In [\"NORTH\", \"EAST\", \"WEST\", \"SOUTH\", \"WEST\", \"WEST\"], \"NORTH\" and \"SOUTH\" are not directly opposite but they become directly opposite after the reduction of \"EAST\" and \"WEST\" so the whole path is reducible to [\"WEST\", \"WEST\"].\n",
        "\n",
        "**2 Task**\n",
        "\n",
        "You have to write a function pathReduc which will take a list of strings and returns a list of strings with the needless paths removed (W<->E or S<->N side by side).\n"
      ],
      "metadata": {
        "id": "Ob9Z-gv-_Vze"
      }
    },
    {
      "cell_type": "code",
      "execution_count": null,
      "metadata": {
        "id": "zkRAdeSY3VXA"
      },
      "outputs": [],
      "source": [
        "def pathReduce(directions):\n",
        "  \"\"\"Method for outputting a list of reduced directions from given list \n",
        "  of directions\n",
        "    \n",
        "        Args: \n",
        "            directions (list)\n",
        "            \n",
        "        Attributes:\n",
        "            directions: a list of Strings character representing four directions\n",
        "            N,S, E and W\n",
        "        \n",
        "        Return:\n",
        "            Returns reduced path list\n",
        "        \"\"\"\n",
        "\n",
        "  reduced_path = []\n",
        "\n",
        "  for d in range(len(directions)):\n",
        "    if not reduced_path:\n",
        "      reduced_path.append(directions[d])\n",
        "    else:\n",
        "      prev_d = reduced_path[-1] \n",
        "      curr_d = directions[d]\n",
        "      if (prev_d == 'N' and curr_d == 'S') or (prev_d == 'S' and curr_d == 'N'):\n",
        "        del reduced_path[-1]\n",
        "        prev_d = ''\n",
        "        curr_d = ''\n",
        "      elif (prev_d == 'E' and curr_d == 'W') or (prev_d == 'W' and curr_d == 'E'):\n",
        "        del reduced_path[-1]\n",
        "        prev_d = ''\n",
        "        curr_d = ''\n",
        "      else:\n",
        "        reduced_path.append(directions[d])\n",
        "\n",
        "\n",
        "  return(reduced_path)\n",
        "\n",
        "  \n",
        "\n"
      ]
    },
    {
      "cell_type": "code",
      "source": [
        "n = int(input('How many directions you wnat to enter? '))\n",
        "directions = []\n",
        "print('\\n\\n!!! Please enter \"N\" for North, \"S\" for South, \"E\" for East and \"W\" for West!!!\\n\\n')\n",
        "for i in range(0,n):\n",
        "  d = input('Press Enter after entering direction: ')\n",
        "  directions.append(d)\n",
        "\n",
        "reducedPath = pathReduce(directions)\n",
        "print('Original Path is Reduced to: ', reducedPath)"
      ],
      "metadata": {
        "colab": {
          "base_uri": "https://localhost:8080/"
        },
        "id": "BlSjo3cN_C40",
        "outputId": "eadad531-3855-4e12-e86d-f15eabaa1b5b"
      },
      "execution_count": null,
      "outputs": [
        {
          "name": "stdout",
          "output_type": "stream",
          "text": [
            "How many directions you wnat to enter? 8\n",
            "\n",
            "\n",
            "!!! Please enter \"N\" for North, \"S\" for South, \"E\" for East and \"W\" for West!!!\n",
            "\n",
            "\n",
            "Press Enter after entering direction: N\n",
            "Press Enter after entering direction: S\n",
            "Press Enter after entering direction: S\n",
            "Press Enter after entering direction: E\n",
            "Press Enter after entering direction: W\n",
            "Press Enter after entering direction: W\n"
          ]
        }
      ]
    }
  ]
}